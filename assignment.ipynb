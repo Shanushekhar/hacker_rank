{
 "cells": [
  {
   "cell_type": "markdown",
   "id": "4d4809f6",
   "metadata": {},
   "source": [
    "1.Python code with interpretation"
   ]
  },
  {
   "cell_type": "code",
   "execution_count": 4,
   "id": "6053a846",
   "metadata": {},
   "outputs": [
    {
     "name": "stdout",
     "output_type": "stream",
     "text": [
      "horizontal or eastward speed of wind:3\n",
      "vertical or northward speed of wind:4\n",
      "speed of wind is: 5.0 m/s\n",
      "37degree from north to east\n"
     ]
    }
   ],
   "source": [
    "import math\n",
    "from math import sqrt\n",
    "u = int(input(\"horizontal or eastward speed of wind:\"))\n",
    "v = int(input(\"vertical or northward speed of wind:\"))\n",
    "windspeed=sqrt(u**2+v**2)\n",
    "print(\"speed of wind is:\",windspeed,\"m/s\")\n",
    "direction=print(str(int(round(math.degrees(math.atan2(u,v)))))+'degree',\"from north to east\")"
   ]
  },
  {
   "cell_type": "markdown",
   "id": "e9e073e3",
   "metadata": {},
   "source": [
    "2.Python code with result\n"
   ]
  },
  {
   "cell_type": "code",
   "execution_count": 6,
   "id": "1d424973",
   "metadata": {},
   "outputs": [
    {
     "name": "stdout",
     "output_type": "stream",
     "text": [
      "height from the earth surface in meter:10000\n",
      "temprature in K:250\n",
      "the pressure at 10km above sea level is 25798.933981163238 pa\n"
     ]
    }
   ],
   "source": [
    "import math\n",
    "from math import exp\n",
    "z=int(input(\"height from the earth surface in meter:\"))\n",
    "T=int(input(\"temprature in K:\"))\n",
    "#average sea-level pressure on earth in pa\n",
    "Po=101325\n",
    "#constant term\n",
    "a=0.0342\n",
    "P=Po*exp(-a*z/T)\n",
    "print(\"the pressure at 10km above sea level is\",P,\"pa\")"
   ]
  },
  {
   "cell_type": "markdown",
   "id": "f9fb9fa9",
   "metadata": {},
   "source": [
    "height from the earth surface in meter:10000\n",
    "temprature in K:300\n",
    "the pressure at 10km above sea level is 32405.662385536998 pa"
   ]
  },
  {
   "cell_type": "markdown",
   "id": "7f7ef2a1",
   "metadata": {},
   "source": [
    "3.Python code with interpretation\n"
   ]
  },
  {
   "cell_type": "markdown",
   "id": "2108c001",
   "metadata": {},
   "source": [
    "a=float(input(\"enter one side dimension of room:\"))\n",
    "b=float(input(\"enter second side dimension of room:\"))\n",
    "c=float(input(\"enter third dimension of room:\"))\n",
    "V=\"volume of room\"\n",
    "V=a*b*c\n",
    "d=\"desity of air at sea level\"\n",
    "d=1.225\n",
    "M=\"mass of air in room\"\n",
    "M=V*d\n",
    "print(\"the mass of air in room is:\",M,\"kg\")"
   ]
  },
  {
   "cell_type": "markdown",
   "id": "f782bccf",
   "metadata": {},
   "source": [
    "4.python code with interpretation\n"
   ]
  },
  {
   "cell_type": "markdown",
   "id": "af3de42c",
   "metadata": {},
   "source": [
    "import math\n",
    "from math import exp\n",
    "z=int(input(\"height from earth surface in meter:\"))\n",
    "T=int(input(\"temprature in kelvin:\"))\n",
    "#average sea-level density on earth in kg/m3\n",
    "po=1.2250\n",
    "#constant\n",
    "a=0.40\n",
    "p=po*exp(-a*z/T)\n",
    "print(\"the density at 2km above sea level is\",p,\"kg/m3\")"
   ]
  },
  {
   "cell_type": "markdown",
   "id": "c7912edd",
   "metadata": {},
   "source": [
    "5.python code with interpretation"
   ]
  },
  {
   "cell_type": "code",
   "execution_count": 2,
   "id": "f906fcae",
   "metadata": {},
   "outputs": [
    {
     "name": "stdout",
     "output_type": "stream",
     "text": [
      "temprature in Kelvin:293\n",
      "Molecular weight in g/mole: 28\n",
      "0.0204590182699813 m/s\n"
     ]
    }
   ],
   "source": [
    "import math\n",
    "from math import sqrt\n",
    "T=int(input(\"temprature in Kelvin:\"))\n",
    "#constant k.m-2 .s2 .mole.g-1\n",
    "a=0.00004 \n",
    "mw=int(input(\"Molecular weight in g/mole: \"))\n",
    "v=sqrt(T/mw*a)\n",
    "print(v,\"m/s\")"
   ]
  },
  {
   "cell_type": "markdown",
   "id": "0cd3271c",
   "metadata": {},
   "source": [
    "#SPEED OF NITROGEN MOLECULE IS GREATER THAN BULLET"
   ]
  }
 ],
 "metadata": {
  "kernelspec": {
   "display_name": "Python 3",
   "language": "python",
   "name": "python3"
  },
  "language_info": {
   "codemirror_mode": {
    "name": "ipython",
    "version": 3
   },
   "file_extension": ".py",
   "mimetype": "text/x-python",
   "name": "python",
   "nbconvert_exporter": "python",
   "pygments_lexer": "ipython3",
   "version": "3.8.8"
  }
 },
 "nbformat": 4,
 "nbformat_minor": 5
}
